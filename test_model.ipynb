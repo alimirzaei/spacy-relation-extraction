{
 "cells": [
  {
   "cell_type": "code",
   "execution_count": 10,
   "id": "3e452d75",
   "metadata": {},
   "outputs": [],
   "source": [
    "import spacy\n",
    "from spacy.lang.en import English\n",
    "from spacy.tokens import Span\n",
    "from spacy import Language\n",
    "\n",
    "from scripts.rel_pipe import make_relation_extractor"
   ]
  },
  {
   "cell_type": "code",
   "execution_count": 3,
   "id": "292d5414",
   "metadata": {},
   "outputs": [],
   "source": [
    "from scripts.rel_model import create_relation_model, create_classification_layer, create_instances, create_tensors\n",
    "nlp_en = English()"
   ]
  },
  {
   "cell_type": "code",
   "execution_count": null,
   "id": "fdf3a989",
   "metadata": {},
   "outputs": [],
   "source": []
  },
  {
   "cell_type": "code",
   "execution_count": 39,
   "id": "38fe91e9",
   "metadata": {},
   "outputs": [],
   "source": [
    "nlp = spacy.load('training/model-best')"
   ]
  },
  {
   "cell_type": "code",
   "execution_count": 41,
   "id": "37a5c3c8",
   "metadata": {},
   "outputs": [],
   "source": [
    "@Language.component('my_ner')\n",
    "def ner(doc):\n",
    "    indices = [i for i, ltr in enumerate(doc.text) if ltr == \"'\"] \n",
    "    doc.ents = [doc.char_span(indices[0],indices[1],label=\"e1\"), doc.char_span(indices[2],indices[3],label='e2')]\n",
    "    print(doc.ents)\n",
    "    return doc"
   ]
  },
  {
   "cell_type": "code",
   "execution_count": 42,
   "id": "0f89d8a7",
   "metadata": {},
   "outputs": [
    {
     "data": {
      "text/plain": [
       "<function __main__.ner(doc)>"
      ]
     },
     "execution_count": 42,
     "metadata": {},
     "output_type": "execute_result"
    }
   ],
   "source": [
    "nlp.add_pipe('my_ner', after='tok2vec')"
   ]
  },
  {
   "cell_type": "code",
   "execution_count": 43,
   "id": "5e137f62",
   "metadata": {},
   "outputs": [
    {
     "name": "stdout",
     "output_type": "stream",
     "text": [
      "('corona, 'lungs)\n"
     ]
    }
   ],
   "source": [
    "text = \"The 'corona' uses from 'lungs'.\"\n",
    "doc = nlp(text)"
   ]
  },
  {
   "cell_type": "code",
   "execution_count": 45,
   "id": "b7ccb07c",
   "metadata": {},
   "outputs": [
    {
     "data": {
      "text/plain": [
       "The 'corona' uses from 'lungs'."
      ]
     },
     "execution_count": 45,
     "metadata": {},
     "output_type": "execute_result"
    }
   ],
   "source": [
    "doc"
   ]
  }
 ],
 "metadata": {
  "kernelspec": {
   "display_name": "Python 3 (ipykernel)",
   "language": "python",
   "name": "python3"
  },
  "language_info": {
   "codemirror_mode": {
    "name": "ipython",
    "version": 3
   },
   "file_extension": ".py",
   "mimetype": "text/x-python",
   "name": "python",
   "nbconvert_exporter": "python",
   "pygments_lexer": "ipython3",
   "version": "3.8.10"
  }
 },
 "nbformat": 4,
 "nbformat_minor": 5
}
