{
 "cells": [
  {
   "cell_type": "code",
   "execution_count": 99,
   "id": "e6ec0ad9",
   "metadata": {},
   "outputs": [],
   "source": [
    "from pathlib import Path\n",
    "from spacy.lang.en import English\n",
    "from spacy.tokenizer import Span\n",
    "from spacy.tokens import Doc"
   ]
  },
  {
   "cell_type": "code",
   "execution_count": 100,
   "id": "775515e5",
   "metadata": {},
   "outputs": [],
   "source": [
    "train_data_path = Path('./assets/sem-eval/TRAIN_FILE.TXT')\n",
    "nlp = English()\n",
    "Doc.set_extension(\"rel\", default={})"
   ]
  },
  {
   "cell_type": "code",
   "execution_count": 128,
   "id": "4c17e891",
   "metadata": {},
   "outputs": [
    {
     "name": "stdout",
     "output_type": "stream",
     "text": [
      "error\n",
      "error\n",
      "error\n",
      "error\n",
      "error\n"
     ]
    }
   ],
   "source": [
    "data = list(train_data.open())\n",
    "samples = []\n",
    "relation_labels=set()\n",
    "for index in range(0, len(data), 4):\n",
    "    sample = {}\n",
    "    sentence = \"\\\"\".join(data[index].split(\"\\\"\")[1:-1])\n",
    "    relation = data[index+1].split('(')[0]\n",
    "    if(len(data[index+1].split('(')) > 1): # there are relationship\n",
    "        first_entity = data[index+1].split('(')[1].split(',')[0]\n",
    "    else:\n",
    "        first_entity = None\n",
    "        relation = \"Other\"\n",
    "    e1_start_index = sentence.find(\"<e1>\")\n",
    "    e1_end_index = sentence.find(\"</e1>\")-4\n",
    "    sentence = sentence.replace(\"<e1>\", \"\")\n",
    "    sentence = sentence.replace(\"</e1>\", \"\")\n",
    "    \n",
    "    e2_start_index = sentence.find(\"<e2>\")\n",
    "    e2_end_index = sentence.find(\"</e2>\")-4\n",
    "    sentence = sentence.replace(\"<e2>\", \"\")\n",
    "    sentence = sentence.replace(\"</e2>\", \"\")\n",
    "    \n",
    "#     sample[\"e1\"] = sample[\"sentence\"][e1_start_index:e1_end_index]\n",
    "#     sample[\"e2\"] = sample[\"sentence\"][e2_start_index:e2_end_index]\n",
    "    \n",
    "    doc= nlp(sentence)\n",
    "    try:\n",
    "        e1 = doc.char_span(e1_start_index, e1_end_index, label=\"e1\")\n",
    "        e2 = doc.char_span(e2_start_index, e2_end_index, label=\"e2\")\n",
    "        doc.set_ents([e1, e2])\n",
    "    except:\n",
    "        print(\"error\")\n",
    "        continue\n",
    "    if(first_entity):\n",
    "        doc._.rel = {\n",
    "            (e1.start, e2.start): {\n",
    "                relation: 1.0 if first_entity=='e1' else 0\n",
    "            },\n",
    "            (e2.start, e1.start): {\n",
    "                relation: 1.0 if first_entity=='e2' else 0\n",
    "            }\n",
    "        }\n",
    "    else:\n",
    "        doc._.rel = {\n",
    "            (e1.start, e2.start): {\n",
    "                relation: 1\n",
    "            },\n",
    "            (e1.start, e2.start): {\n",
    "                relation: 1\n",
    "            }\n",
    "        }\n",
    "    relation_labels.add(relation)\n",
    "    samples.append(doc)\n",
    "    "
   ]
  },
  {
   "cell_type": "code",
   "execution_count": 129,
   "id": "49d244bd",
   "metadata": {},
   "outputs": [
    {
     "data": {
      "text/plain": [
       "{'Cause-Effect',\n",
       " 'Component-Whole',\n",
       " 'Content-Container',\n",
       " 'Entity-Destination',\n",
       " 'Entity-Origin',\n",
       " 'Instrument-Agency',\n",
       " 'Member-Collection',\n",
       " 'Message-Topic',\n",
       " 'Other',\n",
       " 'Product-Producer'}"
      ]
     },
     "execution_count": 129,
     "metadata": {},
     "output_type": "execute_result"
    }
   ],
   "source": [
    "relation_labels"
   ]
  },
  {
   "cell_type": "code",
   "execution_count": 130,
   "id": "719e68e7",
   "metadata": {},
   "outputs": [],
   "source": [
    "for doc in samples:\n",
    "    for key in doc._.rel:\n",
    "        for r in relation_labels:\n",
    "            if(r not in doc._.rel[key]):\n",
    "                doc._.rel[key][r] = 0"
   ]
  },
  {
   "cell_type": "code",
   "execution_count": 134,
   "id": "b3f5a779",
   "metadata": {},
   "outputs": [
    {
     "data": {
      "text/plain": [
       "{(1, 7): {'Instrument-Agency': 0,\n",
       "  'Entity-Destination': 0,\n",
       "  'Component-Whole': 0,\n",
       "  'Other': 0,\n",
       "  'Member-Collection': 0,\n",
       "  'Content-Container': 0,\n",
       "  'Cause-Effect': 0,\n",
       "  'Product-Producer': 0,\n",
       "  'Entity-Origin': 0,\n",
       "  'Message-Topic': 0},\n",
       " (7, 1): {'Instrument-Agency': 1.0,\n",
       "  'Entity-Destination': 0,\n",
       "  'Component-Whole': 0,\n",
       "  'Other': 0,\n",
       "  'Member-Collection': 0,\n",
       "  'Content-Container': 0,\n",
       "  'Cause-Effect': 0,\n",
       "  'Product-Producer': 0,\n",
       "  'Entity-Origin': 0,\n",
       "  'Message-Topic': 0}}"
      ]
     },
     "execution_count": 134,
     "metadata": {},
     "output_type": "execute_result"
    }
   ],
   "source": [
    "samples[2]._.rel"
   ]
  },
  {
   "cell_type": "code",
   "execution_count": 52,
   "id": "3d1dac88",
   "metadata": {},
   "outputs": [],
   "source": [
    "nlp = English()\n",
    "doc = nlp(samples[0][\"sentence\"])"
   ]
  },
  {
   "cell_type": "code",
   "execution_count": 54,
   "id": "865b75bd",
   "metadata": {},
   "outputs": [
    {
     "name": "stdout",
     "output_type": "stream",
     "text": [
      "The\n",
      "system\n",
      "as\n",
      "described\n",
      "above\n",
      "has\n",
      "its\n",
      "greatest\n",
      "application\n",
      "in\n",
      "an\n",
      "arrayed\n",
      "<\n",
      "e1\n",
      ">\n",
      "configuration</e1\n",
      ">\n",
      "of\n",
      "antenna\n",
      "<\n",
      "e2\n",
      ">\n",
      "elements</e2\n",
      ">\n",
      ".\n"
     ]
    }
   ],
   "source": [
    "for token in doc:\n",
    "    print(token.text)"
   ]
  }
 ],
 "metadata": {
  "kernelspec": {
   "display_name": "Python 3 (ipykernel)",
   "language": "python",
   "name": "python3"
  },
  "language_info": {
   "codemirror_mode": {
    "name": "ipython",
    "version": 3
   },
   "file_extension": ".py",
   "mimetype": "text/x-python",
   "name": "python",
   "nbconvert_exporter": "python",
   "pygments_lexer": "ipython3",
   "version": "3.8.10"
  }
 },
 "nbformat": 4,
 "nbformat_minor": 5
}
